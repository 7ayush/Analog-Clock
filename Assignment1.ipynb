{
  "nbformat": 4,
  "nbformat_minor": 0,
  "metadata": {
    "colab": {
      "name": "Assignment1.ipynb",
      "provenance": [],
      "authorship_tag": "ABX9TyML8GuStDUWOIvT2/UDyBFi",
      "include_colab_link": true
    },
    "kernelspec": {
      "name": "python3",
      "display_name": "Python 3"
    },
    "language_info": {
      "name": "python"
    }
  },
  "cells": [
    {
      "cell_type": "markdown",
      "metadata": {
        "id": "view-in-github",
        "colab_type": "text"
      },
      "source": [
        "<a href=\"https://colab.research.google.com/github/7ayush/Analog-Clock/blob/master/Assignment1.ipynb\" target=\"_parent\"><img src=\"https://colab.research.google.com/assets/colab-badge.svg\" alt=\"Open In Colab\"/></a>"
      ]
    },
    {
      "cell_type": "markdown",
      "metadata": {
        "id": "7rwYTysrsIb1"
      },
      "source": [
        ""
      ]
    },
    {
      "cell_type": "code",
      "metadata": {
        "colab": {
          "base_uri": "https://localhost:8080/"
        },
        "id": "WLTBSSpTttD8",
        "outputId": "6962c9bb-147a-480a-a9ff-a4f42c238b81"
      },
      "source": [
        "for i in range(2):\n",
        "  print(\"Ayush Kaushik\")\n"
      ],
      "execution_count": 3,
      "outputs": [
        {
          "output_type": "stream",
          "text": [
            "Ayush Kaushik\n",
            "Ayush Kaushik\n"
          ],
          "name": "stdout"
        }
      ]
    },
    {
      "cell_type": "code",
      "metadata": {
        "colab": {
          "base_uri": "https://localhost:8080/",
          "height": 129
        },
        "id": "n6OSxlI6t4HL",
        "outputId": "40d53db4-1fc9-4f6e-af03-d8b751709398"
      },
      "source": [
        "x=0\n",
        "if x==1:\n",
        "print(\"One\")"
      ],
      "execution_count": 5,
      "outputs": [
        {
          "output_type": "error",
          "ename": "IndentationError",
          "evalue": "ignored",
          "traceback": [
            "\u001b[0;36m  File \u001b[0;32m\"<ipython-input-5-82fbb4536058>\"\u001b[0;36m, line \u001b[0;32m3\u001b[0m\n\u001b[0;31m    print(\"One\")\u001b[0m\n\u001b[0m        ^\u001b[0m\n\u001b[0;31mIndentationError\u001b[0m\u001b[0;31m:\u001b[0m expected an indented block\n"
          ]
        }
      ]
    },
    {
      "cell_type": "code",
      "metadata": {
        "colab": {
          "base_uri": "https://localhost:8080/"
        },
        "id": "sgiiwPY9uGMz",
        "outputId": "e4d2c122-d361-4ea9-8ce1-14c6f4800f1f"
      },
      "source": [
        "x=10\n",
        "y=20\n",
        "print(x+y)\n",
        "print(x-y)\n",
        "print(x*y)\n",
        "print(x/y)"
      ],
      "execution_count": 6,
      "outputs": [
        {
          "output_type": "stream",
          "text": [
            "30\n",
            "-10\n",
            "200\n",
            "0.5\n"
          ],
          "name": "stdout"
        }
      ]
    },
    {
      "cell_type": "code",
      "metadata": {
        "colab": {
          "base_uri": "https://localhost:8080/"
        },
        "id": "PeSE4nczuQY7",
        "outputId": "8fed4a94-9f97-41cc-b948-f7162174c157"
      },
      "source": [
        "x=0\n",
        "y=1\n",
        "print(x&y)\n",
        "print(x|y)\n",
        "print(x^y)\n",
        "print(~x)\n",
        "print(~y)\n",
        "print(y>>1)\n",
        "print(y<<1)\n"
      ],
      "execution_count": 9,
      "outputs": [
        {
          "output_type": "stream",
          "text": [
            "0\n",
            "1\n",
            "1\n",
            "-1\n",
            "-2\n",
            "0\n",
            "2\n"
          ],
          "name": "stdout"
        }
      ]
    },
    {
      "cell_type": "code",
      "metadata": {
        "colab": {
          "base_uri": "https://localhost:8080/"
        },
        "id": "6_HrSIXovI-9",
        "outputId": "dec022c2-c321-4546-ec3c-98ed40d93068"
      },
      "source": [
        "x=int(input(\"Enter x\"))\n",
        "y=int(input(\"Enter y\"))\n",
        "print(x+y)"
      ],
      "execution_count": 11,
      "outputs": [
        {
          "output_type": "stream",
          "text": [
            "Enter x10\n",
            "Enter y20\n",
            "30\n"
          ],
          "name": "stdout"
        }
      ]
    },
    {
      "cell_type": "code",
      "metadata": {
        "colab": {
          "base_uri": "https://localhost:8080/"
        },
        "id": "lAJw6ggLvnBU",
        "outputId": "87bb4b2c-024a-4fd4-9683-d5c46fed266c"
      },
      "source": [
        "x=5\n",
        "if x%2==0:\n",
        "  print(\"Even\")\n",
        "else:\n",
        "  print(\"Odd\")  "
      ],
      "execution_count": 13,
      "outputs": [
        {
          "output_type": "stream",
          "text": [
            "Odd\n"
          ],
          "name": "stdout"
        }
      ]
    },
    {
      "cell_type": "code",
      "metadata": {
        "colab": {
          "base_uri": "https://localhost:8080/"
        },
        "id": "Isid__oyv92k",
        "outputId": "7d18992c-e077-4c41-ae4d-4faa85aa4639"
      },
      "source": [
        "x=int(input(\"Enter x\"))\n",
        "y=int(input(\"Enter y\"))\n",
        "z=int(input(\"Enter z\"))\n",
        "print(max(x,y,z))"
      ],
      "execution_count": 14,
      "outputs": [
        {
          "output_type": "stream",
          "text": [
            "Enter x5\n",
            "Enter y10\n",
            "Enter z15\n",
            "15\n"
          ],
          "name": "stdout"
        }
      ]
    },
    {
      "cell_type": "code",
      "metadata": {
        "id": "JyBjA3vy1LgO"
      },
      "source": [
        ""
      ],
      "execution_count": null,
      "outputs": []
    }
  ]
}