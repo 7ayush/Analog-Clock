{
  "nbformat": 4,
  "nbformat_minor": 0,
  "metadata": {
    "colab": {
      "name": "DS_Assignment5.ipynb",
      "provenance": [],
      "include_colab_link": true
    },
    "kernelspec": {
      "name": "python3",
      "display_name": "Python 3"
    },
    "language_info": {
      "name": "python"
    }
  },
  "cells": [
    {
      "cell_type": "markdown",
      "metadata": {
        "id": "view-in-github",
        "colab_type": "text"
      },
      "source": [
        "<a href=\"https://colab.research.google.com/github/7ayush/Analog-Clock/blob/master/DS_Assignment5.ipynb\" target=\"_parent\"><img src=\"https://colab.research.google.com/assets/colab-badge.svg\" alt=\"Open In Colab\"/></a>"
      ]
    },
    {
      "cell_type": "code",
      "metadata": {
        "id": "UuxPnmo2O52t"
      },
      "source": [
        "#Name: Ayush Kaushik\n",
        "#Roll No: 101903619\n",
        "#Group: 3CO24\n",
        "\n",
        "#Assignment 5\n",
        "import pandas as pd\n",
        "import numpy as np \n",
        "import matplotlib.pyplot as plt"
      ],
      "execution_count": 2,
      "outputs": []
    },
    {
      "cell_type": "code",
      "metadata": {
        "colab": {
          "base_uri": "https://localhost:8080/"
        },
        "id": "wZgBD2xYPXIS",
        "outputId": "5d2840a2-c326-4dd1-ad50-d1e0a0ef6a9d"
      },
      "source": [
        "# Ques 1\n",
        "# Write a program to count the number of vowels in a text file.\n",
        "\n",
        "vowels = ['a','e','i','o','u','A','E','I','O','U']\n",
        "count  = 0\n",
        "with open(\"/content/sample_data/Marks.csv\",\"r\") as r:\n",
        "    for i in r.read():\n",
        "        if i  in vowels:\n",
        "            count += 1\n",
        "print(\"Number of vowels : \",count)\n",
        "r.close()\n"
      ],
      "execution_count": 3,
      "outputs": [
        {
          "output_type": "stream",
          "name": "stdout",
          "text": [
            "Number of vowels :  8\n"
          ]
        }
      ]
    },
    {
      "cell_type": "code",
      "metadata": {
        "id": "a2aYWKXIPsRw"
      },
      "source": [
        "# Ques 2\n",
        "# Write a program to copy the data of a text file in another text file with the condition that alternate characters\n",
        "# should only be copied.\n",
        "with open(\"file3.csv\",\"w\") as w:\n",
        "    with open(\"/content/sample_data/Marks.csv\",\"r\") as r:\n",
        "        for i in r.read():\n",
        "            if count%2 == 0:\n",
        "                w.write(i)\n",
        "            count += 1    \n"
      ],
      "execution_count": 4,
      "outputs": []
    },
    {
      "cell_type": "code",
      "metadata": {
        "id": "GS27ux6CPwCt"
      },
      "source": [
        "# Ques 3\n",
        "# Write a program to copy the data of a text file in another text file with the condition that alternate lines should be copied.\n",
        "count = 0\n",
        "with open(\"file4.csv\",\"w\") as w:\n",
        "    with open(\"/content/sample_data/Marks.csv\",\"r\") as r:\n",
        "        for i in r.readlines():\n",
        "            if count%2 == 0:\n",
        "                w.write(i)\n",
        "            count += 1  \n",
        "\n"
      ],
      "execution_count": 5,
      "outputs": []
    },
    {
      "cell_type": "code",
      "metadata": {
        "id": "-20yPFF6Pyw8"
      },
      "source": [
        "# Ques 4\n",
        "# Write a program to copy the data of a text file in another text \n",
        "#file with the condition that lines having number of the characters more than 50 should only be copied.\n",
        "with open(\"file5.csv\",\"w\") as w:\n",
        "    with open(\"/content/sample_data/Marks.csv\",\"r\") as r:\n",
        "        for i in r.readlines():\n",
        "            if len(i) > 50:\n",
        "                w.write(i)"
      ],
      "execution_count": 7,
      "outputs": []
    },
    {
      "cell_type": "code",
      "metadata": {
        "colab": {
          "base_uri": "https://localhost:8080/",
          "height": 265
        },
        "id": "O96ZKiqrP3Dz",
        "outputId": "a8e93da6-7dd3-443c-e175-9853a3c36124"
      },
      "source": [
        "# Ques 5\n",
        "# Write a program to generate the histogram of the characters stored in a text file.\n",
        "\n",
        "y = []\n",
        "with open(\"/content/sample_data/Marks.csv\",\"r\") as r:\n",
        "    for i in r.read():\n",
        "        if i.isalpha():\n",
        "            y.append(i)\n",
        "#print(y)\n",
        "y.sort()\n",
        "plt.hist(y,bins=13)\n",
        "plt.show()\n"
      ],
      "execution_count": 8,
      "outputs": [
        {
          "output_type": "display_data",
          "data": {
            "image/png": "[encoded data removed]",
            "text/plain": [
              "<Figure size 432x288 with 1 Axes>"
            ]
          },
          "metadata": {
            "needs_background": "light"
          }
        }
      ]
    },
    {
      "cell_type": "code",
      "metadata": {
        "colab": {
          "base_uri": "https://localhost:8080/"
        },
        "id": "BP_SD6IoP7SJ",
        "outputId": "6cff27d2-eeb7-4c5f-a156-f1be4cfdecfe"
      },
      "source": [
        "# Ques 6\n",
        "# Open IRIS CSV using Pandas and find the mean, median and standard deviation of each feature. Don’t call inbuilt methods to find these statistical features.\n",
        "\n",
        "from sklearn.datasets import load_iris\n",
        "iris = load_iris()\n",
        "df = pd.DataFrame(iris.data)\n",
        "means = []\n",
        "for i in range(0,len(df.columns)):\n",
        "    count = 0\n",
        "    for j in range(0,len(df)):\n",
        "        count += df.iloc[j,i]\n",
        "    count = count/len(df)\n",
        "    means.append(count)\n",
        "print(means)\n",
        "\n",
        "medians = []\n",
        "for i in range(0,len(df.columns)):\n",
        "    if len(df)%2 != 0:\n",
        "        Median = ds.iloc[(len(df) + 1 )/2,i]\n",
        "    else:\n",
        "        Median = df.iloc[int(len(df)/2),i] + df.iloc[int(len(df)/2) + 1,i]\n",
        "        Median = Median/2\n",
        "    medians.append(Median)\n",
        "print(medians)\n",
        "\n",
        "stdvrc = []\n",
        "for i in means:\n",
        "    temp = 0\n",
        "    for j in range(0,len(df)):\n",
        "        temp += (df.iloc[j,means.index(i)] - i)**2\n",
        "    stdvrc.append((temp/len(df))**(.5))\n",
        "print(stdvrc)"
      ],
      "execution_count": 9,
      "outputs": [
        {
          "output_type": "stream",
          "name": "stdout",
          "text": [
            "[5.843333333333335, 3.057333333333334, 3.7580000000000027, 1.199333333333334]\n",
            "[6.699999999999999, 2.9, 4.6, 1.4]\n",
            "[0.8253012917851409, 0.43441096773549437, 1.7594040657753032, 0.7596926279021594]\n"
          ]
        }
      ]
    },
    {
      "cell_type": "code",
      "metadata": {
        "colab": {
          "base_uri": "https://localhost:8080/"
        },
        "id": "mZaUKsmPP-8c",
        "outputId": "4690bb0c-7f5f-4468-8980-a03df97b47ac"
      },
      "source": [
        "# Ques 7\n",
        "# Read IRIS or any other dataset using Pandas. Find the correlation between features of the dataset. You need to write your own code to find the correlation\n",
        "\n",
        "from sklearn.datasets import load_iris\n",
        "iris = load_iris()\n",
        "df = pd.DataFrame(iris.data)\n",
        "import math\n",
        "def cor(x,y):\n",
        "    sum_x,sqr_x = 0,0\n",
        "    sum_y,sqr_y = 0,0\n",
        "    sum_xy = 0\n",
        "    for i in range(0,len(df)):\n",
        "        sum_x += df.iloc[i,x]\n",
        "        sqr_x += df.iloc[i,x]**2\n",
        "        sum_y += df.iloc[i,y]\n",
        "        sqr_y += df.iloc[i,y]**2\n",
        "        sum_xy += df.iloc[i,x]*df.iloc[i,y]\n",
        "    sum_x = sum_x/len(df)\n",
        "    sum_y = sum_y/len(df)\n",
        "    sum_xy = sum_xy/len(df)\n",
        "    sqr_x = sqr_x/len(df)\n",
        "    sqr_y = sqr_y/len(df)\n",
        "    sigma_x = math.sqrt(sqr_x - sum_x**2)\n",
        "    sigma_y = math.sqrt(sqr_y - sum_y**2)\n",
        "    # print(sum_x,sum_y,sum_xy,sqr_x,sqr_y,sigma_y,sigma_x)\n",
        "    r = (sum_xy - sum_x*sum_y)/(sigma_y*sigma_x)\n",
        "    print(r)\n",
        "cor(2,3)\n"
      ],
      "execution_count": 10,
      "outputs": [
        {
          "output_type": "stream",
          "name": "stdout",
          "text": [
            "0.9628654314027955\n"
          ]
        }
      ]
    }
  ]
}